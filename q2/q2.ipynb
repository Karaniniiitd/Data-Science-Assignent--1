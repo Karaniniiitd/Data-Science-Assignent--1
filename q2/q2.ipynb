{
 "cells": [
  {
   "cell_type": "code",
   "execution_count": 2,
   "id": "2560bb63-d958-4029-bc4a-87582c85fe5f",
   "metadata": {},
   "outputs": [
    {
     "name": "stdout",
     "output_type": "stream",
     "text": [
      "Requirement already satisfied: pandas in c:\\users\\lenovo\\miniconda3\\lib\\site-packages (2.3.3)\n",
      "Collecting openpyxl\n",
      "  Downloading openpyxl-3.1.5-py2.py3-none-any.whl.metadata (2.5 kB)\n",
      "Requirement already satisfied: numpy>=1.26.0 in c:\\users\\lenovo\\miniconda3\\lib\\site-packages (from pandas) (2.3.4)\n",
      "Requirement already satisfied: python-dateutil>=2.8.2 in c:\\users\\lenovo\\miniconda3\\lib\\site-packages (from pandas) (2.9.0.post0)\n",
      "Requirement already satisfied: pytz>=2020.1 in c:\\users\\lenovo\\miniconda3\\lib\\site-packages (from pandas) (2025.2)\n",
      "Requirement already satisfied: tzdata>=2022.7 in c:\\users\\lenovo\\miniconda3\\lib\\site-packages (from pandas) (2025.2)\n",
      "Collecting et-xmlfile (from openpyxl)\n",
      "  Downloading et_xmlfile-2.0.0-py3-none-any.whl.metadata (2.7 kB)\n",
      "Requirement already satisfied: six>=1.5 in c:\\users\\lenovo\\miniconda3\\lib\\site-packages (from python-dateutil>=2.8.2->pandas) (1.17.0)\n",
      "Downloading openpyxl-3.1.5-py2.py3-none-any.whl (250 kB)\n",
      "Downloading et_xmlfile-2.0.0-py3-none-any.whl (18 kB)\n",
      "Installing collected packages: et-xmlfile, openpyxl\n",
      "\n",
      "   -------------------- ------------------- 1/2 [openpyxl]\n",
      "   -------------------- ------------------- 1/2 [openpyxl]\n",
      "   -------------------- ------------------- 1/2 [openpyxl]\n",
      "   -------------------- ------------------- 1/2 [openpyxl]\n",
      "   -------------------- ------------------- 1/2 [openpyxl]\n",
      "   -------------------- ------------------- 1/2 [openpyxl]\n",
      "   -------------------- ------------------- 1/2 [openpyxl]\n",
      "   -------------------- ------------------- 1/2 [openpyxl]\n",
      "   -------------------- ------------------- 1/2 [openpyxl]\n",
      "   -------------------- ------------------- 1/2 [openpyxl]\n",
      "   -------------------- ------------------- 1/2 [openpyxl]\n",
      "   -------------------- ------------------- 1/2 [openpyxl]\n",
      "   ---------------------------------------- 2/2 [openpyxl]\n",
      "\n",
      "Successfully installed et-xmlfile-2.0.0 openpyxl-3.1.5\n",
      "Note: you may need to restart the kernel to use updated packages.\n"
     ]
    }
   ],
   "source": [
    "pip install pandas openpyxl\n"
   ]
  },
  {
   "cell_type": "code",
   "execution_count": 1,
   "id": "e2c6f164-74ba-4e7a-a92c-1fb55340e791",
   "metadata": {},
   "outputs": [],
   "source": [
    "import pandas as pd\n",
    "\n",
    "# Load the Excel file\n",
    "df = pd.read_excel('online_retail.xlsx')  # replace with your file path\n",
    "\n",
    "# Convert to CSV\n",
    "df.to_csv('online_retail.csv', index=False)  # index=False to remove row numbers\n"
   ]
  },
  {
   "cell_type": "code",
   "execution_count": 2,
   "id": "a43cdaa7-6244-4387-a47d-16aed3877235",
   "metadata": {},
   "outputs": [
    {
     "name": "stdout",
     "output_type": "stream",
     "text": [
      "Total items: 541909 Unique: 4070\n",
      "m=10000,k=3,FPR=0.3533,Sensitivity=True\n",
      "m=10000,k=5,FPR=0.4985,Sensitivity=True\n",
      "m=10000,k=7,FPR=0.6947,Sensitivity=True\n",
      "m=50000,k=3,FPR=0.0152,Sensitivity=True\n",
      "m=50000,k=5,FPR=0.0025,Sensitivity=True\n",
      "m=50000,k=7,FPR=0.0023,Sensitivity=True\n",
      "m=100000,k=3,FPR=0.0027,Sensitivity=True\n",
      "m=100000,k=5,FPR=0.0013,Sensitivity=True\n",
      "m=100000,k=7,FPR=0.0000,Sensitivity=True\n",
      "Exact top20: [('85123A', 2313), ('22423', 2203), ('85099B', 2159), ('47566', 1727), ('20725', 1639)]\n",
      "k=5, recovered=0, mean_error=973.00\n",
      "k=10, recovered=0, mean_error=382.80\n",
      "k=20, recovered=0, mean_error=441.75\n",
      "k=50, recovered=4, mean_error=472.31\n"
     ]
    },
    {
     "data": {
      "image/png": "[encoded data removed]",
      "text/plain": [
       "<Figure size 600x400 with 1 Axes>"
      ]
     },
     "metadata": {},
     "output_type": "display_data"
    }
   ],
   "source": [
    "import pandas as pd, numpy as np, random, hashlib, matplotlib.pyplot as plt\n",
    "from collections import Counter\n",
    "\n",
    "# --- Load dataset\n",
    "df = pd.read_csv(\"Online_Retail.csv\", encoding='latin1')\n",
    "df = df.dropna(subset=['StockCode'])\n",
    "stockcodes = df['StockCode'].astype(str).tolist()\n",
    "unique_codes = list(set(stockcodes))\n",
    "print(\"Total items:\", len(stockcodes), \"Unique:\", len(unique_codes))\n",
    "\n",
    "# --- Bloom Filter class\n",
    "class BloomFilter:\n",
    "    def __init__(self, m, k):\n",
    "        self.m = m; self.k = k\n",
    "        self.bits = np.zeros(m, dtype=bool)\n",
    "    def _hashes(self, item):\n",
    "        h1 = int(hashlib.md5(item.encode()).hexdigest(),16)\n",
    "        h2 = int(hashlib.sha1(item.encode()).hexdigest(),16)\n",
    "        for i in range(self.k):\n",
    "            yield (h1 + i*h2) % self.m\n",
    "    def add(self,item):\n",
    "        for h in self._hashes(item): self.bits[h]=True\n",
    "    def __contains__(self,item):\n",
    "        return all(self.bits[h] for h in self._hashes(item))\n",
    "\n",
    "# --- Bloom Filter experiment\n",
    "def bloom_experiment(unique_codes, m_values, k_values, x_values):\n",
    "    results=[]\n",
    "    for m in m_values:\n",
    "        for k in k_values:\n",
    "            bf = BloomFilter(m,k)\n",
    "            for code in unique_codes:\n",
    "                bf.add(code)\n",
    "            sens = all((c in bf) for c in random.sample(unique_codes, min(1000,len(unique_codes))))\n",
    "            fps=[]\n",
    "            for x in x_values:\n",
    "                false=0\n",
    "                for _ in range(x):\n",
    "                    fake=\"X\"+str(random.randint(100000,999999))\n",
    "                    if fake in bf: false+=1\n",
    "                fps.append(false/x)\n",
    "            results.append((m,k,fps))\n",
    "            print(f\"m={m},k={k},FPR={np.mean(fps):.4f},Sensitivity={sens}\")\n",
    "    return results\n",
    "\n",
    "m_values=[10000,50000,100000]\n",
    "k_values=[3,5,7]\n",
    "x_values=[100,200,500,1000]\n",
    "bloom_results=bloom_experiment(unique_codes,m_values,k_values,x_values)\n",
    "\n",
    "# --- Misra–Gries\n",
    "def misra_gries(stream,k):\n",
    "    counters={}\n",
    "    for item in stream:\n",
    "        if item in counters: counters[item]+=1\n",
    "        elif len(counters)<k: counters[item]=1\n",
    "        else:\n",
    "            for key in list(counters.keys()):\n",
    "                counters[key]-=1\n",
    "                if counters[key]==0: del counters[key]\n",
    "    return counters\n",
    "\n",
    "counts=Counter(stockcodes)\n",
    "exact_top=counts.most_common(20)\n",
    "print(\"Exact top20:\", exact_top[:5])\n",
    "\n",
    "k_values_mg=[5,10,20,50]\n",
    "recov=[]; errors=[]\n",
    "for k in k_values_mg:\n",
    "    est=misra_gries(stockcodes,k)\n",
    "    topk=[x for x,_ in counts.most_common(k)]\n",
    "    est_top=list(est.keys())\n",
    "    recovered=len(set(est_top)&set(topk))\n",
    "    mean_err=np.mean([counts[i]-est.get(i,0) for i in est_top])\n",
    "    recov.append(recovered/k)\n",
    "    errors.append(mean_err)\n",
    "    print(f\"k={k}, recovered={recovered}, mean_error={mean_err:.2f}\")\n",
    "\n",
    "plt.figure(figsize=(6,4))\n",
    "plt.plot(k_values_mg, recov, marker='o')\n",
    "plt.xlabel('k'); plt.ylabel('Fraction of true top-k recovered')\n",
    "plt.title('Misra-Gries accuracy vs k')\n",
    "plt.grid(); plt.show()\n"
   ]
  },
  {
   "cell_type": "code",
   "execution_count": null,
   "id": "2890ef03-f336-4cee-abbb-08f49b33b356",
   "metadata": {},
   "outputs": [],
   "source": []
  }
 ],
 "metadata": {
  "kernelspec": {
   "display_name": "Python 3 (ipykernel)",
   "language": "python",
   "name": "python3"
  },
  "language_info": {
   "codemirror_mode": {
    "name": "ipython",
    "version": 3
   },
   "file_extension": ".py",
   "mimetype": "text/x-python",
   "name": "python",
   "nbconvert_exporter": "python",
   "pygments_lexer": "ipython3",
   "version": "3.13.5"
  }
 },
 "nbformat": 4,
 "nbformat_minor": 5
}
