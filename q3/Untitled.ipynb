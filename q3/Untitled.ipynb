{
 "cells": [
  {
   "cell_type": "code",
   "execution_count": 5,
   "id": "7f5dd7ec-2bb4-41df-af77-80c654b86d4f",
   "metadata": {},
   "outputs": [
    {
     "name": "stdout",
     "output_type": "stream",
     "text": [
      "Requirement already satisfied: numpy in c:\\users\\lenovo\\miniconda3\\lib\\site-packages (2.3.4)\n",
      "Requirement already satisfied: pandas in c:\\users\\lenovo\\miniconda3\\lib\\site-packages (2.3.3)\n",
      "Requirement already satisfied: scikit-learn in c:\\users\\lenovo\\miniconda3\\lib\\site-packages (1.7.2)\n",
      "Collecting matplotlib\n",
      "  Downloading matplotlib-3.10.7-cp313-cp313-win_amd64.whl.metadata (11 kB)\n",
      "Requirement already satisfied: tqdm in c:\\users\\lenovo\\miniconda3\\lib\\site-packages (4.67.1)\n",
      "Requirement already satisfied: scipy in c:\\users\\lenovo\\miniconda3\\lib\\site-packages (1.16.2)\n",
      "Requirement already satisfied: python-dateutil>=2.8.2 in c:\\users\\lenovo\\miniconda3\\lib\\site-packages (from pandas) (2.9.0.post0)\n",
      "Requirement already satisfied: pytz>=2020.1 in c:\\users\\lenovo\\miniconda3\\lib\\site-packages (from pandas) (2025.2)\n",
      "Requirement already satisfied: tzdata>=2022.7 in c:\\users\\lenovo\\miniconda3\\lib\\site-packages (from pandas) (2025.2)\n",
      "Requirement already satisfied: joblib>=1.2.0 in c:\\users\\lenovo\\miniconda3\\lib\\site-packages (from scikit-learn) (1.5.2)\n",
      "Requirement already satisfied: threadpoolctl>=3.1.0 in c:\\users\\lenovo\\miniconda3\\lib\\site-packages (from scikit-learn) (3.6.0)\n",
      "Collecting contourpy>=1.0.1 (from matplotlib)\n",
      "  Downloading contourpy-1.3.3-cp313-cp313-win_amd64.whl.metadata (5.5 kB)\n",
      "Collecting cycler>=0.10 (from matplotlib)\n",
      "  Using cached cycler-0.12.1-py3-none-any.whl.metadata (3.8 kB)\n",
      "Collecting fonttools>=4.22.0 (from matplotlib)\n",
      "  Downloading fonttools-4.60.1-cp313-cp313-win_amd64.whl.metadata (114 kB)\n",
      "Collecting kiwisolver>=1.3.1 (from matplotlib)\n",
      "  Downloading kiwisolver-1.4.9-cp313-cp313-win_amd64.whl.metadata (6.4 kB)\n",
      "Requirement already satisfied: packaging>=20.0 in c:\\users\\lenovo\\miniconda3\\lib\\site-packages (from matplotlib) (24.2)\n",
      "Collecting pillow>=8 (from matplotlib)\n",
      "  Downloading pillow-12.0.0-cp313-cp313-win_amd64.whl.metadata (9.0 kB)\n",
      "Collecting pyparsing>=3 (from matplotlib)\n",
      "  Using cached pyparsing-3.2.5-py3-none-any.whl.metadata (5.0 kB)\n",
      "Requirement already satisfied: colorama in c:\\users\\lenovo\\miniconda3\\lib\\site-packages (from tqdm) (0.4.6)\n",
      "Requirement already satisfied: six>=1.5 in c:\\users\\lenovo\\miniconda3\\lib\\site-packages (from python-dateutil>=2.8.2->pandas) (1.17.0)\n",
      "Downloading matplotlib-3.10.7-cp313-cp313-win_amd64.whl (8.1 MB)\n",
      "   ---------------------------------------- 0.0/8.1 MB ? eta -:--:--\n",
      "   ---------------------------------------- 0.0/8.1 MB ? eta -:--:--\n",
      "   ---------------------------------------- 0.0/8.1 MB ? eta -:--:--\n",
      "   ---------------------------------------- 0.0/8.1 MB ? eta -:--:--\n",
      "   - -------------------------------------- 0.3/8.1 MB ? eta -:--:--\n",
      "   - -------------------------------------- 0.3/8.1 MB ? eta -:--:--\n",
      "   - -------------------------------------- 0.3/8.1 MB ? eta -:--:--\n",
      "   -- ------------------------------------- 0.5/8.1 MB 370.8 kB/s eta 0:00:21\n",
      "   -- ------------------------------------- 0.5/8.1 MB 370.8 kB/s eta 0:00:21\n",
      "   -- ------------------------------------- 0.5/8.1 MB 370.8 kB/s eta 0:00:21\n",
      "   --- ------------------------------------ 0.8/8.1 MB 389.2 kB/s eta 0:00:19\n",
      "   ----- ---------------------------------- 1.0/8.1 MB 508.7 kB/s eta 0:00:14\n",
      "   ------ --------------------------------- 1.3/8.1 MB 590.0 kB/s eta 0:00:12\n",
      "   ------- -------------------------------- 1.6/8.1 MB 659.6 kB/s eta 0:00:10\n",
      "   --------- ------------------------------ 1.8/8.1 MB 719.9 kB/s eta 0:00:09\n",
      "   ---------- ----------------------------- 2.1/8.1 MB 781.5 kB/s eta 0:00:08\n",
      "   ----------- ---------------------------- 2.4/8.1 MB 825.9 kB/s eta 0:00:07\n",
      "   -------------- ------------------------- 2.9/8.1 MB 903.6 kB/s eta 0:00:06\n",
      "   --------------- ------------------------ 3.1/8.1 MB 944.4 kB/s eta 0:00:06\n",
      "   ------------------ --------------------- 3.7/8.1 MB 1.0 MB/s eta 0:00:05\n",
      "   ------------------- -------------------- 3.9/8.1 MB 1.0 MB/s eta 0:00:05\n",
      "   --------------------- ------------------ 4.5/8.1 MB 1.1 MB/s eta 0:00:04\n",
      "   ----------------------- ---------------- 4.7/8.1 MB 1.1 MB/s eta 0:00:03\n",
      "   ------------------------- -------------- 5.2/8.1 MB 1.2 MB/s eta 0:00:03\n",
      "   ---------------------------- ----------- 5.8/8.1 MB 1.3 MB/s eta 0:00:02\n",
      "   ------------------------------ --------- 6.3/8.1 MB 1.3 MB/s eta 0:00:02\n",
      "   --------------------------------- ------ 6.8/8.1 MB 1.3 MB/s eta 0:00:01\n",
      "   ------------------------------------ --- 7.3/8.1 MB 1.4 MB/s eta 0:00:01\n",
      "   -------------------------------------- - 7.9/8.1 MB 1.4 MB/s eta 0:00:01\n",
      "   ---------------------------------------- 8.1/8.1 MB 1.5 MB/s eta 0:00:00\n",
      "Downloading contourpy-1.3.3-cp313-cp313-win_amd64.whl (226 kB)\n",
      "Using cached cycler-0.12.1-py3-none-any.whl (8.3 kB)\n",
      "Downloading fonttools-4.60.1-cp313-cp313-win_amd64.whl (2.3 MB)\n",
      "   ---------------------------------------- 0.0/2.3 MB ? eta -:--:--\n",
      "   --------- ------------------------------ 0.5/2.3 MB 2.9 MB/s eta 0:00:01\n",
      "   ------------------ --------------------- 1.0/2.3 MB 2.8 MB/s eta 0:00:01\n",
      "   -------------------------------- ------- 1.8/2.3 MB 2.8 MB/s eta 0:00:01\n",
      "   ---------------------------------------- 2.3/2.3 MB 2.8 MB/s eta 0:00:00\n",
      "Downloading kiwisolver-1.4.9-cp313-cp313-win_amd64.whl (73 kB)\n",
      "Downloading pillow-12.0.0-cp313-cp313-win_amd64.whl (7.0 MB)\n",
      "   ---------------------------------------- 0.0/7.0 MB ? eta -:--:--\n",
      "   -- ------------------------------------- 0.5/7.0 MB 3.4 MB/s eta 0:00:02\n",
      "   ----- ---------------------------------- 1.0/7.0 MB 2.7 MB/s eta 0:00:03\n",
      "   ---------- ----------------------------- 1.8/7.0 MB 3.1 MB/s eta 0:00:02\n",
      "   -------------- ------------------------- 2.6/7.0 MB 3.1 MB/s eta 0:00:02\n",
      "   ------------------- -------------------- 3.4/7.0 MB 3.3 MB/s eta 0:00:02\n",
      "   ---------------------- ----------------- 3.9/7.0 MB 3.2 MB/s eta 0:00:01\n",
      "   ---------------------------- ----------- 5.0/7.0 MB 3.3 MB/s eta 0:00:01\n",
      "   -------------------------------- ------- 5.8/7.0 MB 3.5 MB/s eta 0:00:01\n",
      "   -------------------------------------- - 6.8/7.0 MB 3.6 MB/s eta 0:00:01\n",
      "   -------------------------------------- - 6.8/7.0 MB 3.6 MB/s eta 0:00:01\n",
      "   ---------------------------------------- 7.0/7.0 MB 3.2 MB/s eta 0:00:00\n",
      "Using cached pyparsing-3.2.5-py3-none-any.whl (113 kB)\n",
      "Installing collected packages: pyparsing, pillow, kiwisolver, fonttools, cycler, contourpy, matplotlib\n",
      "\n",
      "   ---------------------------------------- 0/7 [pyparsing]\n",
      "   ----- ---------------------------------- 1/7 [pillow]\n",
      "   ----- ---------------------------------- 1/7 [pillow]\n",
      "   ----- ---------------------------------- 1/7 [pillow]\n",
      "   ----- ---------------------------------- 1/7 [pillow]\n",
      "   ----- ---------------------------------- 1/7 [pillow]\n",
      "   ----- ---------------------------------- 1/7 [pillow]\n",
      "   ----- ---------------------------------- 1/7 [pillow]\n",
      "   ----- ---------------------------------- 1/7 [pillow]\n",
      "   ----- ---------------------------------- 1/7 [pillow]\n",
      "   ----- ---------------------------------- 1/7 [pillow]\n",
      "   ----- ---------------------------------- 1/7 [pillow]\n",
      "   ----- ---------------------------------- 1/7 [pillow]\n",
      "   ----- ---------------------------------- 1/7 [pillow]\n",
      "   ----------------- ---------------------- 3/7 [fonttools]\n",
      "   ----------------- ---------------------- 3/7 [fonttools]\n",
      "   ----------------- ---------------------- 3/7 [fonttools]\n",
      "   ----------------- ---------------------- 3/7 [fonttools]\n",
      "   ----------------- ---------------------- 3/7 [fonttools]\n",
      "   ----------------- ---------------------- 3/7 [fonttools]\n",
      "   ----------------- ---------------------- 3/7 [fonttools]\n",
      "   ----------------- ---------------------- 3/7 [fonttools]\n",
      "   ----------------- ---------------------- 3/7 [fonttools]\n",
      "   ----------------- ---------------------- 3/7 [fonttools]\n",
      "   ----------------- ---------------------- 3/7 [fonttools]\n",
      "   ----------------- ---------------------- 3/7 [fonttools]\n",
      "   ----------------- ---------------------- 3/7 [fonttools]\n",
      "   ----------------- ---------------------- 3/7 [fonttools]\n",
      "   ----------------- ---------------------- 3/7 [fonttools]\n",
      "   ----------------- ---------------------- 3/7 [fonttools]\n",
      "   ----------------- ---------------------- 3/7 [fonttools]\n",
      "   ----------------- ---------------------- 3/7 [fonttools]\n",
      "   ----------------- ---------------------- 3/7 [fonttools]\n",
      "   ----------------- ---------------------- 3/7 [fonttools]\n",
      "   ----------------- ---------------------- 3/7 [fonttools]\n",
      "   ----------------- ---------------------- 3/7 [fonttools]\n",
      "   ----------------- ---------------------- 3/7 [fonttools]\n",
      "   ----------------- ---------------------- 3/7 [fonttools]\n",
      "   ----------------- ---------------------- 3/7 [fonttools]\n",
      "   ----------------- ---------------------- 3/7 [fonttools]\n",
      "   ----------------- ---------------------- 3/7 [fonttools]\n",
      "   ----------------- ---------------------- 3/7 [fonttools]\n",
      "   ----------------- ---------------------- 3/7 [fonttools]\n",
      "   ----------------- ---------------------- 3/7 [fonttools]\n",
      "   ----------------- ---------------------- 3/7 [fonttools]\n",
      "   ----------------- ---------------------- 3/7 [fonttools]\n",
      "   ----------------- ---------------------- 3/7 [fonttools]\n",
      "   ----------------- ---------------------- 3/7 [fonttools]\n",
      "   ---------------------------- ----------- 5/7 [contourpy]\n",
      "   ---------------------------- ----------- 5/7 [contourpy]\n",
      "   ---------------------------------- ----- 6/7 [matplotlib]\n",
      "   ---------------------------------- ----- 6/7 [matplotlib]\n",
      "   ---------------------------------- ----- 6/7 [matplotlib]\n",
      "   ---------------------------------- ----- 6/7 [matplotlib]\n",
      "   ---------------------------------- ----- 6/7 [matplotlib]\n",
      "   ---------------------------------- ----- 6/7 [matplotlib]\n",
      "   ---------------------------------- ----- 6/7 [matplotlib]\n",
      "   ---------------------------------- ----- 6/7 [matplotlib]\n",
      "   ---------------------------------- ----- 6/7 [matplotlib]\n",
      "   ---------------------------------- ----- 6/7 [matplotlib]\n",
      "   ---------------------------------- ----- 6/7 [matplotlib]\n",
      "   ---------------------------------- ----- 6/7 [matplotlib]\n",
      "   ---------------------------------- ----- 6/7 [matplotlib]\n",
      "   ---------------------------------- ----- 6/7 [matplotlib]\n",
      "   ---------------------------------- ----- 6/7 [matplotlib]\n",
      "   ---------------------------------- ----- 6/7 [matplotlib]\n",
      "   ---------------------------------- ----- 6/7 [matplotlib]\n",
      "   ---------------------------------- ----- 6/7 [matplotlib]\n",
      "   ---------------------------------- ----- 6/7 [matplotlib]\n",
      "   ---------------------------------- ----- 6/7 [matplotlib]\n",
      "   ---------------------------------- ----- 6/7 [matplotlib]\n",
      "   ---------------------------------- ----- 6/7 [matplotlib]\n",
      "   ---------------------------------- ----- 6/7 [matplotlib]\n",
      "   ---------------------------------- ----- 6/7 [matplotlib]\n",
      "   ---------------------------------- ----- 6/7 [matplotlib]\n",
      "   ---------------------------------- ----- 6/7 [matplotlib]\n",
      "   ---------------------------------- ----- 6/7 [matplotlib]\n",
      "   ---------------------------------- ----- 6/7 [matplotlib]\n",
      "   ---------------------------------- ----- 6/7 [matplotlib]\n",
      "   ---------------------------------- ----- 6/7 [matplotlib]\n",
      "   ---------------------------------- ----- 6/7 [matplotlib]\n",
      "   ---------------------------------- ----- 6/7 [matplotlib]\n",
      "   ---------------------------------- ----- 6/7 [matplotlib]\n",
      "   ---------------------------------- ----- 6/7 [matplotlib]\n",
      "   ---------------------------------- ----- 6/7 [matplotlib]\n",
      "   ---------------------------------- ----- 6/7 [matplotlib]\n",
      "   ---------------------------------- ----- 6/7 [matplotlib]\n",
      "   ---------------------------------- ----- 6/7 [matplotlib]\n",
      "   ---------------------------------- ----- 6/7 [matplotlib]\n",
      "   ---------------------------------- ----- 6/7 [matplotlib]\n",
      "   ---------------------------------- ----- 6/7 [matplotlib]\n",
      "   ---------------------------------- ----- 6/7 [matplotlib]\n",
      "   ---------------------------------- ----- 6/7 [matplotlib]\n",
      "   ---------------------------------- ----- 6/7 [matplotlib]\n",
      "   ---------------------------------------- 7/7 [matplotlib]\n",
      "\n",
      "Successfully installed contourpy-1.3.3 cycler-0.12.1 fonttools-4.60.1 kiwisolver-1.4.9 matplotlib-3.10.7 pillow-12.0.0 pyparsing-3.2.5\n"
     ]
    }
   ],
   "source": [
    "!pip install numpy pandas scikit-learn matplotlib tqdm scipy\n"
   ]
  },
  {
   "cell_type": "code",
   "execution_count": null,
   "id": "300e34e7-93a5-459b-ab24-7bda34c1252f",
   "metadata": {},
   "outputs": [
    {
     "name": "stderr",
     "output_type": "stream",
     "text": [
      "Matplotlib is building the font cache; this may take a moment.\n"
     ]
    },
    {
     "name": "stdout",
     "output_type": "stream",
     "text": [
      "Raw dataset shape: n=494021, d=41\n",
      "Processed X shape: (494021, 41), y shape: (494021,)\n",
      "\n",
      "=== Running Part 3a experiments ===\n",
      "Running baseline kmeans on original data (this may take time)...\n",
      "Baseline cost (kmeans on D): 4562715.000\n",
      "x=5 trial 1/5: cost_using_A=45439996.000\n",
      "x=5 trial 2/5: cost_using_A=50483496.000\n",
      "x=5 trial 3/5: cost_using_A=29748834.000\n",
      "x=5 trial 4/5: cost_using_A=40004772.000\n",
      "x=5 trial 5/5: cost_using_A=26811346.000\n",
      "x=15 trial 1/5: cost_using_A=39726924.000\n",
      "x=15 trial 2/5: cost_using_A=37089848.000\n",
      "x=15 trial 3/5: cost_using_A=28853278.000\n",
      "x=15 trial 4/5: cost_using_A=31391292.000\n",
      "x=15 trial 5/5: cost_using_A=23356988.000\n",
      "x=20 trial 1/5: cost_using_A=21286552.000\n",
      "x=20 trial 2/5: cost_using_A=23176650.000\n",
      "x=20 trial 3/5: cost_using_A=23571390.000\n",
      "x=20 trial 4/5: cost_using_A=25602946.000\n",
      "x=20 trial 5/5: cost_using_A=22272438.000\n",
      "x=25 trial 1/5: cost_using_A=29618156.000\n",
      "x=25 trial 2/5: cost_using_A=22549988.000\n",
      "x=25 trial 3/5: cost_using_A=22254976.000\n",
      "x=25 trial 4/5: cost_using_A=20384568.000\n",
      "x=25 trial 5/5: cost_using_A=20773028.000\n"
     ]
    },
    {
     "name": "stderr",
     "output_type": "stream",
     "text": [
      "C:\\Users\\lenovo\\AppData\\Local\\Temp\\ipykernel_12904\\3236362109.py:223: MatplotlibDeprecationWarning: The 'labels' parameter of boxplot() has been renamed 'tick_labels' since Matplotlib 3.9; support for the old name will be dropped in 3.11.\n",
      "  ax.boxplot(data, labels=[str(x) for x in x_vals_a])\n"
     ]
    },
    {
     "name": "stdout",
     "output_type": "stream",
     "text": [
      "\n",
      "=== Running Part 3b experiments ===\n",
      "Fitting baseline Ridge on (D,y)...\n",
      "Baseline loss on (D,y): 104941976.000\n"
     ]
    },
    {
     "name": "stderr",
     "output_type": "stream",
     "text": [
      "C:\\Users\\lenovo\\miniconda3\\Lib\\site-packages\\scipy\\_lib\\_util.py:1233: LinAlgWarning: Ill-conditioned matrix (rcond=2.82216e-09): result may not be accurate.\n",
      "  return f(*arrays, *other_args, **kwargs)\n"
     ]
    },
    {
     "name": "stdout",
     "output_type": "stream",
     "text": [
      "x=25 trial 1/5: loss_using_a=471716832.000\n"
     ]
    },
    {
     "name": "stderr",
     "output_type": "stream",
     "text": [
      "C:\\Users\\lenovo\\miniconda3\\Lib\\site-packages\\scipy\\_lib\\_util.py:1233: LinAlgWarning: Ill-conditioned matrix (rcond=4.62608e-09): result may not be accurate.\n",
      "  return f(*arrays, *other_args, **kwargs)\n"
     ]
    },
    {
     "name": "stdout",
     "output_type": "stream",
     "text": [
      "x=25 trial 2/5: loss_using_a=441335232.000\n"
     ]
    },
    {
     "name": "stderr",
     "output_type": "stream",
     "text": [
      "C:\\Users\\lenovo\\miniconda3\\Lib\\site-packages\\scipy\\_lib\\_util.py:1233: LinAlgWarning: Ill-conditioned matrix (rcond=5.14544e-09): result may not be accurate.\n",
      "  return f(*arrays, *other_args, **kwargs)\n"
     ]
    },
    {
     "name": "stdout",
     "output_type": "stream",
     "text": [
      "x=25 trial 3/5: loss_using_a=528626496.000\n"
     ]
    },
    {
     "name": "stderr",
     "output_type": "stream",
     "text": [
      "C:\\Users\\lenovo\\miniconda3\\Lib\\site-packages\\scipy\\_lib\\_util.py:1233: LinAlgWarning: Ill-conditioned matrix (rcond=8.45971e-09): result may not be accurate.\n",
      "  return f(*arrays, *other_args, **kwargs)\n"
     ]
    },
    {
     "name": "stdout",
     "output_type": "stream",
     "text": [
      "x=25 trial 4/5: loss_using_a=448146144.000\n"
     ]
    },
    {
     "name": "stderr",
     "output_type": "stream",
     "text": [
      "C:\\Users\\lenovo\\miniconda3\\Lib\\site-packages\\scipy\\_lib\\_util.py:1233: LinAlgWarning: Ill-conditioned matrix (rcond=7.98055e-09): result may not be accurate.\n",
      "  return f(*arrays, *other_args, **kwargs)\n"
     ]
    },
    {
     "name": "stdout",
     "output_type": "stream",
     "text": [
      "x=25 trial 5/5: loss_using_a=784676928.000\n"
     ]
    },
    {
     "name": "stderr",
     "output_type": "stream",
     "text": [
      "C:\\Users\\lenovo\\miniconda3\\Lib\\site-packages\\scipy\\_lib\\_util.py:1233: LinAlgWarning: Ill-conditioned matrix (rcond=2.8443e-09): result may not be accurate.\n",
      "  return f(*arrays, *other_args, **kwargs)\n"
     ]
    },
    {
     "name": "stdout",
     "output_type": "stream",
     "text": [
      "x=50 trial 1/5: loss_using_a=475543296.000\n"
     ]
    },
    {
     "name": "stderr",
     "output_type": "stream",
     "text": [
      "C:\\Users\\lenovo\\miniconda3\\Lib\\site-packages\\scipy\\_lib\\_util.py:1233: LinAlgWarning: Ill-conditioned matrix (rcond=2.62369e-09): result may not be accurate.\n",
      "  return f(*arrays, *other_args, **kwargs)\n"
     ]
    },
    {
     "name": "stdout",
     "output_type": "stream",
     "text": [
      "x=50 trial 2/5: loss_using_a=383461312.000\n"
     ]
    },
    {
     "name": "stderr",
     "output_type": "stream",
     "text": [
      "C:\\Users\\lenovo\\miniconda3\\Lib\\site-packages\\scipy\\_lib\\_util.py:1233: LinAlgWarning: Ill-conditioned matrix (rcond=2.31985e-09): result may not be accurate.\n",
      "  return f(*arrays, *other_args, **kwargs)\n"
     ]
    },
    {
     "name": "stdout",
     "output_type": "stream",
     "text": [
      "x=50 trial 3/5: loss_using_a=336631680.000\n"
     ]
    },
    {
     "name": "stderr",
     "output_type": "stream",
     "text": [
      "C:\\Users\\lenovo\\miniconda3\\Lib\\site-packages\\scipy\\_lib\\_util.py:1233: LinAlgWarning: Ill-conditioned matrix (rcond=3.2584e-09): result may not be accurate.\n",
      "  return f(*arrays, *other_args, **kwargs)\n"
     ]
    },
    {
     "name": "stdout",
     "output_type": "stream",
     "text": [
      "x=50 trial 4/5: loss_using_a=693710912.000\n"
     ]
    },
    {
     "name": "stderr",
     "output_type": "stream",
     "text": [
      "C:\\Users\\lenovo\\miniconda3\\Lib\\site-packages\\scipy\\_lib\\_util.py:1233: LinAlgWarning: Ill-conditioned matrix (rcond=2.63834e-09): result may not be accurate.\n",
      "  return f(*arrays, *other_args, **kwargs)\n"
     ]
    },
    {
     "name": "stdout",
     "output_type": "stream",
     "text": [
      "x=50 trial 5/5: loss_using_a=245688384.000\n"
     ]
    },
    {
     "name": "stderr",
     "output_type": "stream",
     "text": [
      "C:\\Users\\lenovo\\miniconda3\\Lib\\site-packages\\scipy\\_lib\\_util.py:1233: LinAlgWarning: Ill-conditioned matrix (rcond=1.30667e-09): result may not be accurate.\n",
      "  return f(*arrays, *other_args, **kwargs)\n"
     ]
    },
    {
     "name": "stdout",
     "output_type": "stream",
     "text": [
      "x=100 trial 1/5: loss_using_a=173164880.000\n"
     ]
    },
    {
     "name": "stderr",
     "output_type": "stream",
     "text": [
      "C:\\Users\\lenovo\\miniconda3\\Lib\\site-packages\\scipy\\_lib\\_util.py:1233: LinAlgWarning: Ill-conditioned matrix (rcond=1.45318e-09): result may not be accurate.\n",
      "  return f(*arrays, *other_args, **kwargs)\n"
     ]
    },
    {
     "name": "stdout",
     "output_type": "stream",
     "text": [
      "x=100 trial 2/5: loss_using_a=187837952.000\n"
     ]
    },
    {
     "name": "stderr",
     "output_type": "stream",
     "text": [
      "C:\\Users\\lenovo\\miniconda3\\Lib\\site-packages\\scipy\\_lib\\_util.py:1233: LinAlgWarning: Ill-conditioned matrix (rcond=1.42574e-09): result may not be accurate.\n",
      "  return f(*arrays, *other_args, **kwargs)\n"
     ]
    },
    {
     "name": "stdout",
     "output_type": "stream",
     "text": [
      "x=100 trial 3/5: loss_using_a=170556768.000\n"
     ]
    },
    {
     "name": "stderr",
     "output_type": "stream",
     "text": [
      "C:\\Users\\lenovo\\miniconda3\\Lib\\site-packages\\scipy\\_lib\\_util.py:1233: LinAlgWarning: Ill-conditioned matrix (rcond=1.38289e-09): result may not be accurate.\n",
      "  return f(*arrays, *other_args, **kwargs)\n"
     ]
    },
    {
     "name": "stdout",
     "output_type": "stream",
     "text": [
      "x=100 trial 4/5: loss_using_a=195869968.000\n"
     ]
    },
    {
     "name": "stderr",
     "output_type": "stream",
     "text": [
      "C:\\Users\\lenovo\\miniconda3\\Lib\\site-packages\\scipy\\_lib\\_util.py:1233: LinAlgWarning: Ill-conditioned matrix (rcond=1.4452e-09): result may not be accurate.\n",
      "  return f(*arrays, *other_args, **kwargs)\n"
     ]
    },
    {
     "name": "stdout",
     "output_type": "stream",
     "text": [
      "x=100 trial 5/5: loss_using_a=145035408.000\n"
     ]
    },
    {
     "name": "stderr",
     "output_type": "stream",
     "text": [
      "C:\\Users\\lenovo\\miniconda3\\Lib\\site-packages\\scipy\\_lib\\_util.py:1233: LinAlgWarning: Ill-conditioned matrix (rcond=7.48513e-10): result may not be accurate.\n",
      "  return f(*arrays, *other_args, **kwargs)\n"
     ]
    },
    {
     "name": "stdout",
     "output_type": "stream",
     "text": [
      "x=200 trial 1/5: loss_using_a=126717256.000\n"
     ]
    },
    {
     "name": "stderr",
     "output_type": "stream",
     "text": [
      "C:\\Users\\lenovo\\miniconda3\\Lib\\site-packages\\scipy\\_lib\\_util.py:1233: LinAlgWarning: Ill-conditioned matrix (rcond=7.81135e-10): result may not be accurate.\n",
      "  return f(*arrays, *other_args, **kwargs)\n"
     ]
    },
    {
     "name": "stdout",
     "output_type": "stream",
     "text": [
      "x=200 trial 2/5: loss_using_a=130702144.000\n"
     ]
    },
    {
     "name": "stderr",
     "output_type": "stream",
     "text": [
      "C:\\Users\\lenovo\\miniconda3\\Lib\\site-packages\\scipy\\_lib\\_util.py:1233: LinAlgWarning: Ill-conditioned matrix (rcond=6.65898e-10): result may not be accurate.\n",
      "  return f(*arrays, *other_args, **kwargs)\n"
     ]
    },
    {
     "name": "stdout",
     "output_type": "stream",
     "text": [
      "x=200 trial 3/5: loss_using_a=133547816.000\n"
     ]
    },
    {
     "name": "stderr",
     "output_type": "stream",
     "text": [
      "C:\\Users\\lenovo\\miniconda3\\Lib\\site-packages\\scipy\\_lib\\_util.py:1233: LinAlgWarning: Ill-conditioned matrix (rcond=7.60884e-10): result may not be accurate.\n",
      "  return f(*arrays, *other_args, **kwargs)\n"
     ]
    },
    {
     "name": "stdout",
     "output_type": "stream",
     "text": [
      "x=200 trial 4/5: loss_using_a=140125248.000\n"
     ]
    },
    {
     "name": "stderr",
     "output_type": "stream",
     "text": [
      "C:\\Users\\lenovo\\miniconda3\\Lib\\site-packages\\scipy\\_lib\\_util.py:1233: LinAlgWarning: Ill-conditioned matrix (rcond=6.98391e-10): result may not be accurate.\n",
      "  return f(*arrays, *other_args, **kwargs)\n"
     ]
    },
    {
     "name": "stdout",
     "output_type": "stream",
     "text": [
      "x=200 trial 5/5: loss_using_a=132423144.000\n"
     ]
    },
    {
     "name": "stderr",
     "output_type": "stream",
     "text": [
      "C:\\Users\\lenovo\\miniconda3\\Lib\\site-packages\\scipy\\_lib\\_util.py:1233: LinAlgWarning: Ill-conditioned matrix (rcond=3.16092e-10): result may not be accurate.\n",
      "  return f(*arrays, *other_args, **kwargs)\n"
     ]
    },
    {
     "name": "stdout",
     "output_type": "stream",
     "text": [
      "x=500 trial 1/5: loss_using_a=114536856.000\n"
     ]
    },
    {
     "name": "stderr",
     "output_type": "stream",
     "text": [
      "C:\\Users\\lenovo\\miniconda3\\Lib\\site-packages\\scipy\\_lib\\_util.py:1233: LinAlgWarning: Ill-conditioned matrix (rcond=2.69788e-10): result may not be accurate.\n",
      "  return f(*arrays, *other_args, **kwargs)\n"
     ]
    },
    {
     "name": "stdout",
     "output_type": "stream",
     "text": [
      "x=500 trial 2/5: loss_using_a=114821504.000\n"
     ]
    },
    {
     "name": "stderr",
     "output_type": "stream",
     "text": [
      "C:\\Users\\lenovo\\miniconda3\\Lib\\site-packages\\scipy\\_lib\\_util.py:1233: LinAlgWarning: Ill-conditioned matrix (rcond=2.77276e-10): result may not be accurate.\n",
      "  return f(*arrays, *other_args, **kwargs)\n"
     ]
    },
    {
     "name": "stdout",
     "output_type": "stream",
     "text": [
      "x=500 trial 3/5: loss_using_a=117231224.000\n"
     ]
    },
    {
     "name": "stderr",
     "output_type": "stream",
     "text": [
      "C:\\Users\\lenovo\\miniconda3\\Lib\\site-packages\\scipy\\_lib\\_util.py:1233: LinAlgWarning: Ill-conditioned matrix (rcond=2.78069e-10): result may not be accurate.\n",
      "  return f(*arrays, *other_args, **kwargs)\n"
     ]
    },
    {
     "name": "stdout",
     "output_type": "stream",
     "text": [
      "x=500 trial 4/5: loss_using_a=113108624.000\n"
     ]
    },
    {
     "name": "stderr",
     "output_type": "stream",
     "text": [
      "C:\\Users\\lenovo\\miniconda3\\Lib\\site-packages\\scipy\\_lib\\_util.py:1233: LinAlgWarning: Ill-conditioned matrix (rcond=2.7769e-10): result may not be accurate.\n",
      "  return f(*arrays, *other_args, **kwargs)\n"
     ]
    },
    {
     "name": "stdout",
     "output_type": "stream",
     "text": [
      "x=500 trial 5/5: loss_using_a=114824512.000\n"
     ]
    },
    {
     "name": "stderr",
     "output_type": "stream",
     "text": [
      "C:\\Users\\lenovo\\AppData\\Local\\Temp\\ipykernel_12904\\3236362109.py:238: MatplotlibDeprecationWarning: The 'labels' parameter of boxplot() has been renamed 'tick_labels' since Matplotlib 3.9; support for the old name will be dropped in 3.11.\n",
      "  ax.boxplot(data2, labels=[str(x) for x in x_vals_b])\n"
     ]
    }
   ],
   "source": [
    "# q3_complete.py\n",
    "# Complete code for Assignment Q3 (parts a and b)\n",
    "# Requires: scikit-learn, numpy, pandas, matplotlib, tqdm\n",
    "\n",
    "import os\n",
    "import numpy as np\n",
    "import pandas as pd\n",
    "from sklearn.datasets import fetch_kddcup99\n",
    "from sklearn.preprocessing import LabelEncoder, StandardScaler\n",
    "from sklearn.cluster import KMeans\n",
    "from sklearn.linear_model import Ridge\n",
    "import matplotlib.pyplot as plt\n",
    "from tqdm import tqdm\n",
    "import scipy.sparse as sp\n",
    "\n",
    "# ---------------------\n",
    "# Utilities\n",
    "# ---------------------\n",
    "def ensure_dir(d):\n",
    "    os.makedirs(d, exist_ok=True)\n",
    "\n",
    "def load_and_preprocess_kdd(subsample=None, scale=True):\n",
    "    \"\"\"\n",
    "    Fetch KDDCup99, decode bytes, label-encode categorical columns, return numeric D and y.\n",
    "    If subsample is int, take first `subsample` rows for faster experiments.\n",
    "    \"\"\"\n",
    "    data = fetch_kddcup99(subset=None, download_if_missing=True)\n",
    "    X_raw = np.array(data.data)  # shape (n, d) but entries are bytes or numbers\n",
    "    y_raw = np.array(data.target)\n",
    "\n",
    "    n, d = X_raw.shape\n",
    "    print(f\"Raw dataset shape: n={n}, d={d}\")\n",
    "\n",
    "    # decode / convert column-wise\n",
    "    X_cols = []\n",
    "    for j in range(d):\n",
    "        col = X_raw[:, j]\n",
    "        # detect bytes\n",
    "        if isinstance(col[0], (bytes, bytearray)):\n",
    "            # decode and label encode\n",
    "            col_decoded = [c.decode('utf-8', errors='ignore') for c in col]\n",
    "            le = LabelEncoder()\n",
    "            col_enc = le.fit_transform(col_decoded)\n",
    "            X_cols.append(col_enc.astype(np.float32))\n",
    "        else:\n",
    "            X_cols.append(col.astype(np.float32))\n",
    "\n",
    "    X = np.vstack(X_cols).T  # shape (n, d)\n",
    "    # y: decode and label encode\n",
    "    y_decoded = [v.decode('utf-8', errors='ignore') for v in y_raw]\n",
    "    le_y = LabelEncoder()\n",
    "    y_enc = le_y.fit_transform(y_decoded).astype(np.float32)\n",
    "\n",
    "    if subsample is not None:\n",
    "        X = X[:subsample]\n",
    "        y_enc = y_enc[:subsample]\n",
    "\n",
    "    if scale:\n",
    "        scaler = StandardScaler()\n",
    "        X = scaler.fit_transform(X)\n",
    "\n",
    "    print(f\"Processed X shape: {X.shape}, y shape: {y_enc.shape}\")\n",
    "    return X, y_enc\n",
    "\n",
    "# ---------------------\n",
    "# JL matrix factories\n",
    "# ---------------------\n",
    "def dense_gaussian_jl(d, x, rng=None):\n",
    "    \"\"\"\n",
    "    Return dense Gaussian JL matrix of shape (d, x) such that columns scaled by 1/sqrt(x).\n",
    "    So E = D @ M gives shape (n, x).\n",
    "    \"\"\"\n",
    "    if rng is None:\n",
    "        rng = np.random.default_rng()\n",
    "    M = rng.normal(loc=0.0, scale=1.0/np.sqrt(x), size=(d, x)).astype(np.float32)\n",
    "    return M\n",
    "\n",
    "def sparse_achlioptas_jl(d, x, s=3, rng=None):\n",
    "    \"\"\"\n",
    "    Achlioptas-style sparse JL: each entry is:\n",
    "      +sqrt(s) with prob 1/(2s)\n",
    "      -sqrt(s) with prob 1/(2s)\n",
    "      0 with prob 1 - 1/s\n",
    "    M has shape (d, x)\n",
    "    \"\"\"\n",
    "    if rng is None:\n",
    "        rng = np.random.default_rng()\n",
    "    prob = 1.0 / s\n",
    "    size = d * x\n",
    "    # generate in chunks if needed\n",
    "    vals = rng.random(size=size)\n",
    "    M = np.zeros(size, dtype=np.float32)\n",
    "    pos = (vals < (prob/2))\n",
    "    neg = (vals >= (prob/2)) & (vals < prob)\n",
    "    M[pos] = np.sqrt(s)\n",
    "    M[neg] = -np.sqrt(s)\n",
    "    M = M.reshape((d, x))\n",
    "    return M\n",
    "\n",
    "# ---------------------\n",
    "# Part 3(a): JL + k-means experiments\n",
    "# ---------------------\n",
    "def compute_kmeans_cost(D, centroids):\n",
    "    # vectorized: for each point find squared distance to nearest centroid\n",
    "    # D: (n, d), centroids: (k, d)\n",
    "    # compute squared norms\n",
    "    # use broadcasting carefully to avoid memory blowup\n",
    "    n, d = D.shape\n",
    "    k = centroids.shape[0]\n",
    "    # we'll compute in chunks if n big\n",
    "    chunk = 10000\n",
    "    cost = 0.0\n",
    "    for i in range(0, n, chunk):\n",
    "        Di = D[i:i+chunk]  # (c, d)\n",
    "        # distances: (c, k) = sum((Di[:,None,:] - centroids[None,:,:])**2, axis=2)\n",
    "        # compute efficiently: ||u-v||^2 = ||u||^2 + ||v||^2 - 2 u.v\n",
    "        u2 = np.sum(Di**2, axis=1)[:, None]  # (c,1)\n",
    "        v2 = np.sum(centroids**2, axis=1)[None, :]  # (1,k)\n",
    "        uv = Di @ centroids.T  # (c,k)\n",
    "        dists2 = u2 + v2 - 2*uv\n",
    "        cost += np.sum(np.min(dists2, axis=1))\n",
    "    return float(cost)\n",
    "\n",
    "def part3a_experiment(D, x_values=[5,15,20,25], trials=5, kmeans_k=15, rng_seed=0, use_sparse=False):\n",
    "    rng = np.random.default_rng(rng_seed)\n",
    "    n, d = D.shape\n",
    "    results = {}\n",
    "    # baseline: kmeans on original D => B\n",
    "    print(\"Running baseline kmeans on original data (this may take time)...\")\n",
    "    km_full = KMeans(n_clusters=kmeans_k, random_state=rng_seed, n_init=10).fit(D)\n",
    "    B = km_full.cluster_centers_\n",
    "    cost_B = compute_kmeans_cost(D, B)\n",
    "    results['baseline_cost'] = cost_B\n",
    "    print(f\"Baseline cost (kmeans on D): {cost_B:.3f}\")\n",
    "\n",
    "    for x in x_values:\n",
    "        costs_using_A = []\n",
    "        costs_using_B_as_control = []\n",
    "        for t in range(trials):\n",
    "            if use_sparse:\n",
    "                M = sparse_achlioptas_jl(d, x, s=3, rng=rng)\n",
    "            else:\n",
    "                M = dense_gaussian_jl(d, x, rng=rng)\n",
    "            E = D @ M  # n x x\n",
    "            # run kmeans on projected data\n",
    "            km_proj = KMeans(n_clusters=kmeans_k, random_state=int(rng.integers(0,1e9)), n_init=10).fit(E)\n",
    "            A_proj = km_proj.cluster_centers_  # shape (k, x)\n",
    "            # map centroids back to original space: A_back = A_proj @ M.T  (k x d)\n",
    "            A_back = A_proj @ M.T\n",
    "            cost_using_A = compute_kmeans_cost(D, A_back)\n",
    "            costs_using_A.append(cost_using_A)\n",
    "            # also compute cost of using centroids B (from D) on D as control (should equal baseline)\n",
    "            costs_using_B_as_control.append(cost_B)\n",
    "            print(f\"x={x} trial {t+1}/{trials}: cost_using_A={cost_using_A:.3f}\")\n",
    "        results[x] = {'costs_using_A': costs_using_A, 'mean_cost': float(np.mean(costs_using_A))}\n",
    "    return results\n",
    "\n",
    "# ---------------------\n",
    "# Part 3(b): Sparse JL + linear regression\n",
    "# ---------------------\n",
    "def sparse_jl_matrix_x_n(x, n, s=3, rng=None):\n",
    "    \"\"\"\n",
    "    Return dense-ish sparse JL of shape (x, n) using Achlioptas style,\n",
    "    implemented as dense numpy for simplicity. For very large n use scipy.sparse.\n",
    "    \"\"\"\n",
    "    if rng is None:\n",
    "        rng = np.random.default_rng()\n",
    "    prob = 1.0 / s\n",
    "    size = x * n\n",
    "    vals = rng.random(size=size)\n",
    "    Mflat = np.zeros(size, dtype=np.float32)\n",
    "    pos = (vals < (prob/2))\n",
    "    neg = (vals >= (prob/2)) & (vals < prob)\n",
    "    Mflat[pos] = np.sqrt(s)\n",
    "    Mflat[neg] = -np.sqrt(s)\n",
    "    M = Mflat.reshape((x, n))\n",
    "    return M\n",
    "\n",
    "def part3b_experiment(D, y, x_values=[25,50,100,200,500], trials=5, alpha=1.0, rng_seed=0):\n",
    "    rng = np.random.default_rng(rng_seed)\n",
    "    n, d = D.shape\n",
    "    results = {}\n",
    "    # Fit baseline ridge on (D,y)\n",
    "    print(\"Fitting baseline Ridge on (D,y)...\")\n",
    "    ridge_full = Ridge(alpha=alpha, fit_intercept=True)\n",
    "    ridge_full.fit(D, y)\n",
    "    b = ridge_full.coef_\n",
    "    loss_full = float(np.linalg.norm(D.dot(b) - y)**2)\n",
    "    results['baseline_loss'] = loss_full\n",
    "    print(f\"Baseline loss on (D,y): {loss_full:.3f}\")\n",
    "\n",
    "    for x in x_values:\n",
    "        losses = []\n",
    "        for t in range(trials):\n",
    "            M = sparse_jl_matrix_x_n(x, n, s=3, rng=rng)  # shape (x, n)\n",
    "            E = M @ D         # shape (x, d)\n",
    "            z = M @ y         # shape (x,)\n",
    "            # Solve ridge on (E, z): we want a in R^d\n",
    "            model_proj = Ridge(alpha=alpha, fit_intercept=True)\n",
    "            model_proj.fit(E, z)\n",
    "            a = model_proj.coef_\n",
    "            loss_using_a = float(np.linalg.norm(D.dot(a) - y)**2)\n",
    "            losses.append(loss_using_a)\n",
    "            print(f\"x={x} trial {t+1}/{trials}: loss_using_a={loss_using_a:.3f}\")\n",
    "        results[x] = {'losses': losses, 'mean_loss': float(np.mean(losses))}\n",
    "    return results\n",
    "\n",
    "# ---------------------\n",
    "# Runner\n",
    "# ---------------------\n",
    "def run_all_q3(subsample=None, outdir=\"./q3_outputs\", trials=5):\n",
    "    ensure_dir(outdir)\n",
    "    D, y = load_and_preprocess_kdd(subsample=subsample)\n",
    "    # Part 3a\n",
    "    x_vals_a = [5, 15, 20, 25]\n",
    "    print(\"\\n=== Running Part 3a experiments ===\")\n",
    "    res3a = part3a_experiment(D, x_values=x_vals_a, trials=trials, kmeans_k=15, rng_seed=0, use_sparse=False)\n",
    "    # Save results\n",
    "    pd.DataFrame({x: res3a[x]['costs_using_A'] for x in x_vals_a}).to_csv(os.path.join(outdir, \"part3a_costs.csv\"), index=False)\n",
    "    # plot boxplot of costs per x\n",
    "    fig, ax = plt.subplots(figsize=(8,5))\n",
    "    data = [res3a[x]['costs_using_A'] for x in x_vals_a]\n",
    "    ax.boxplot(data, labels=[str(x) for x in x_vals_a])\n",
    "    ax.set_xlabel(\"x (projected dim)\")\n",
    "    ax.set_ylabel(\"k-means cost on D using centroids from projected kmeans\")\n",
    "    ax.set_title(\"Part 3a: Cost of projected centroids mapped back to original space\")\n",
    "    fig.savefig(os.path.join(outdir, \"part3a_costs_boxplot.png\"))\n",
    "    plt.close(fig)\n",
    "\n",
    "    # Part 3b\n",
    "    x_vals_b = [25, 50, 100, 200, 500]\n",
    "    print(\"\\n=== Running Part 3b experiments ===\")\n",
    "    res3b = part3b_experiment(D, y, x_values=x_vals_b, trials=trials, alpha=1.0, rng_seed=0)\n",
    "    pd.DataFrame({x: res3b[x]['losses'] for x in x_vals_b}).to_csv(os.path.join(outdir, \"part3b_losses.csv\"), index=False)\n",
    "    # plot\n",
    "    fig, ax = plt.subplots(figsize=(8,5))\n",
    "    data2 = [res3b[x]['losses'] for x in x_vals_b]\n",
    "    ax.boxplot(data2, labels=[str(x) for x in x_vals_b])\n",
    "    ax.set_xlabel(\"x (projected dimension)\")\n",
    "    ax.set_ylabel(\"Regression loss on (D,y) using coefficients learned from projected data\")\n",
    "    ax.set_title(\"Part 3b: Regression loss vs projected dimension x\")\n",
    "    fig.savefig(os.path.join(outdir, \"part3b_losses_boxplot.png\"))\n",
    "    plt.close(fig)\n",
    "\n",
    "    # Save summary JSON-like\n",
    "    summary = {\"part3a\": {x: {'mean_cost': res3a[x]['mean_cost']} for x in x_vals_a},\n",
    "               \"part3a_baseline_cost\": res3a['baseline_cost'],\n",
    "               \"part3b\": {x: {'mean_loss': res3b[x]['mean_loss']} for x in x_vals_b},\n",
    "               \"part3b_baseline_loss\": res3b['baseline_loss']}\n",
    "    pd.DataFrame(summary).to_csv(os.path.join(outdir, \"q3_summary.csv\"), index=False)\n",
    "    print(f\"\\nAll outputs saved in {outdir}\")\n",
    "    return res3a, res3b\n",
    "\n",
    "if __name__ == \"__main__\":\n",
    "    # set subsample=None to use full dataset; for quick tests set subsample=50000 or similar\n",
    "    run_all_q3(subsample=None, outdir=\"./q3_outputs\", trials=5)\n"
   ]
  },
  {
   "cell_type": "code",
   "execution_count": null,
   "id": "7c4f7602-9a01-4d17-ba86-67f9755dfd49",
   "metadata": {},
   "outputs": [],
   "source": []
  }
 ],
 "metadata": {
  "kernelspec": {
   "display_name": "Python 3 (ipykernel)",
   "language": "python",
   "name": "python3"
  },
  "language_info": {
   "codemirror_mode": {
    "name": "ipython",
    "version": 3
   },
   "file_extension": ".py",
   "mimetype": "text/x-python",
   "name": "python",
   "nbconvert_exporter": "python",
   "pygments_lexer": "ipython3",
   "version": "3.13.5"
  }
 },
 "nbformat": 4,
 "nbformat_minor": 5
}
